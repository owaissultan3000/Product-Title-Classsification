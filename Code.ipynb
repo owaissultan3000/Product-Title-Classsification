{
 "cells": [
  {
   "cell_type": "code",
   "execution_count": 52,
   "id": "adjusted-stomach",
   "metadata": {},
   "outputs": [
    {
     "ename": "NameError",
     "evalue": "name 'cleandata' is not defined",
     "output_type": "error",
     "traceback": [
      "\u001b[1;31m---------------------------------------------------------------------------\u001b[0m",
      "\u001b[1;31mNameError\u001b[0m                                 Traceback (most recent call last)",
      "\u001b[1;32m<ipython-input-52-a912af06181c>\u001b[0m in \u001b[0;36m<module>\u001b[1;34m\u001b[0m\n\u001b[0;32m     23\u001b[0m \u001b[1;33m\u001b[0m\u001b[0m\n\u001b[0;32m     24\u001b[0m \u001b[0mtrain\u001b[0m\u001b[1;33m.\u001b[0m\u001b[0mhead\u001b[0m\u001b[1;33m(\u001b[0m\u001b[1;33m)\u001b[0m\u001b[1;33m\u001b[0m\u001b[1;33m\u001b[0m\u001b[0m\n\u001b[1;32m---> 25\u001b[1;33m \u001b[0mcleandata\u001b[0m\u001b[1;33m(\u001b[0m\u001b[0mtrain\u001b[0m\u001b[1;33m)\u001b[0m\u001b[1;33m\u001b[0m\u001b[1;33m\u001b[0m\u001b[0m\n\u001b[0m\u001b[0;32m     26\u001b[0m \u001b[1;33m\u001b[0m\u001b[0m\n\u001b[0;32m     27\u001b[0m \u001b[0mtrain\u001b[0m\u001b[1;33m[\u001b[0m\u001b[1;36m1\u001b[0m\u001b[1;33m:\u001b[0m\u001b[1;36m21\u001b[0m\u001b[1;33m]\u001b[0m\u001b[1;33m\u001b[0m\u001b[1;33m\u001b[0m\u001b[0m\n",
      "\u001b[1;31mNameError\u001b[0m: name 'cleandata' is not defined"
     ]
    }
   ],
   "source": [
    "import numpy as np\n",
    "import pandas as pd\n",
    "import re as re\n",
    "import lxml.html\n",
    "import lxml.html.clean\n",
    "from keras.preprocessing.text import Tokenizer\n",
    "from string import digits\n",
    "import nltk\n",
    "\n",
    "\n",
    "token = RegexpTokenizer(\"[\\w']+\")\n",
    "sw = stopwords.words('english')\n",
    "words = set(nltk.corpus.words.words())\n",
    "\n",
    "#reading training data from csv files\n",
    "columnLabels = ['country', 'id', 'title', 'category-1', 'category-2', 'category-3', 'description', 'price', 'type']\n",
    "train = pd.read_csv('data/training/data_train.csv', names=columnLabels, encoding = 'utf8')\n",
    "clarity = pd.read_csv('data/training/clarity.csv', names=['clarity'], encoding = 'utf8')\n",
    "concise = pd.read_csv('data/training/concise.csv', names=['concise'], encoding = 'utf8')\n",
    "train['clarity'] = clarity\n",
    "train['concise'] = concise\n",
    "\n",
    "\n",
    "train.head()\n",
    "cleandata(train)\n",
    "\n",
    "train[1:21]"
   ]
  },
  {
   "cell_type": "code",
   "execution_count": null,
   "id": "racial-jersey",
   "metadata": {},
   "outputs": [],
   "source": [
    "#html tags removing from description\n",
    "def remove_tags(string):\n",
    "    \n",
    "    doc = lxml.html.fromstring(string)\n",
    "    cleaner = lxml.html.clean.Cleaner(style=True)\n",
    "    doc = cleaner.clean_html(doc)\n",
    "    text = doc.text_content()\n",
    "    return text\n",
    "\n",
    "def cleandata(data):\n",
    "    \n",
    "    #html tags removal\n",
    "    data['description']=data['description'].apply(lambda cw : remove_tags(str(cw)))\n",
    "    \n",
    "    #tokenize and convert to lower case\n",
    "    data['title'] = data['title'].apply(lambda x: token.tokenize(x.lower()))\n",
    "    \n",
    "    #stopword removal\n",
    "    data['title'] = data['title'].apply(lambda x: ' '.join([w for w in x if w not in sw]))\n",
    "    \n",
    "    #remove punctuations and other symbols\n",
    "    data['title'] = data['title'].apply(lambda x: [w for w in nltk.wordpunct_tokenize(str(x))\\\n",
    "                                                                 if w in words is not w.isalpha() and not w.isnumeric()])\n",
    "    #remove digits\n",
    "    data['title'] = data['title'].apply(lambda x: [w.translate({ord(k): None for k in digits}) for w in x])\n",
    "    \n",
    "    #remove single length words\n",
    "    data['title'] = data['title'].apply(lambda x: ' '.join([w for w in x if len(w)>1]))\n",
    "\n",
    "    \n"
   ]
  }
 ],
 "metadata": {
  "kernelspec": {
   "display_name": "Python 3",
   "language": "python",
   "name": "python3"
  },
  "language_info": {
   "codemirror_mode": {
    "name": "ipython",
    "version": 3
   },
   "file_extension": ".py",
   "mimetype": "text/x-python",
   "name": "python",
   "nbconvert_exporter": "python",
   "pygments_lexer": "ipython3",
   "version": "3.8.2"
  }
 },
 "nbformat": 4,
 "nbformat_minor": 5
}
